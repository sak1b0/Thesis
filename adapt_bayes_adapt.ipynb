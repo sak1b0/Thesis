{
  "nbformat": 4,
  "nbformat_minor": 0,
  "metadata": {
    "colab": {
      "name": "adapt_bayes_adapt.ipynb",
      "version": "0.3.2",
      "provenance": [],
      "collapsed_sections": [],
      "include_colab_link": true
    },
    "kernelspec": {
      "name": "python3",
      "display_name": "Python 3"
    }
  },
  "cells": [
    {
      "cell_type": "markdown",
      "metadata": {
        "id": "view-in-github",
        "colab_type": "text"
      },
      "source": [
        "<a href=\"https://colab.research.google.com/github/sak1b0/Thesis/blob/master/adapt_bayes_adapt.ipynb\" target=\"_parent\"><img src=\"https://colab.research.google.com/assets/colab-badge.svg\" alt=\"Open In Colab\"/></a>"
      ]
    },
    {
      "metadata": {
        "id": "BDFV2R_2IcZY",
        "colab_type": "code",
        "outputId": "c1158fce-1b7c-419f-a662-536ec6645f94",
        "colab": {
          "base_uri": "https://localhost:8080/",
          "height": 615
        }
      },
      "cell_type": "code",
      "source": [
        "from sklearn import metrics\n",
        "from sklearn.naive_bayes import GaussianNB\n",
        "from sklearn.naive_bayes import MultinomialNB\n",
        "from sklearn.model_selection import train_test_split\n",
        "from sklearn.metrics import accuracy_score\n",
        "from sklearn.preprocessing import OneHotEncoder\n",
        "from sklearn.preprocessing import LabelEncoder\n",
        "from sklearn.cluster import KMeans\n",
        "from sklearn.decomposition import PCA\n",
        "import matplotlib.pyplot as plt\n",
        "#import pylab as pl\n",
        "import pandas as pd\n",
        "import numpy as np\n",
        "\n",
        "url='https://raw.githubusercontent.com/sak1b0/Thesis/master/allCSV/letter.csv'\n",
        "\n",
        "df=pd.read_csv(url,header=None)\n",
        "#print(df.iloc[0,:])\n",
        "\n",
        "#----------to handle nominal values---------\n",
        "\n",
        "my_arr=[]\n",
        "\n",
        "#track of column indices \n",
        "index=0\n",
        "for item in df.dtypes:\n",
        "  if(item=='object'):\n",
        "    #if data type is nominal adding to the array\n",
        "    my_arr.append(index)\n",
        "  index=index+1\n",
        "  \n",
        "print('object data types: ',len(my_arr))\n",
        "\n",
        "df=df.values\n",
        "\n",
        "if(len(my_arr)>0):\n",
        "  lbl=LabelEncoder()\n",
        "  for item in my_arr:\n",
        "    df[:,item] = lbl.fit_transform(df[:,item])\n",
        "    \n",
        "  print('after the conversion: ',df[0])    \n",
        "#--------------------------------------------\n",
        "\n",
        "\n",
        "df=np.asarray(df)\n",
        "\n",
        "X, y = np.split(df,[-1],axis=1)\n",
        "#issue here !!!!!!!!!!!!!!!!!!!!!!!!!!!!!\n",
        "y=y.astype('float64')\n",
        "\n",
        "x_train,x_test,y_train,y_test=train_test_split(X,y,test_size=0.30,random_state=101)\n",
        "\n",
        "#to check additional info set the value of debug to 1\n",
        "debug=0\n",
        "\n",
        "def debug_me():\n",
        "  print('----------debug start----------')\n",
        "  print('main data: ',df.shape)\n",
        "  print('x: ',X.shape)\n",
        "  print('y: ',y.shape)\n",
        "  print('x_train: ',x_train.shape)\n",
        "  print('x_test: ',x_test.shape)\n",
        "  print('y_train: ',y_train.shape)\n",
        "  print('y_test: ',y_test.shape)\n",
        "  print('----------debug end----------')\n",
        "\n",
        "\n",
        "\n",
        "\n",
        "# X=np.asarray(X)\n",
        "# y=np.asarray(y)\n",
        "# y=y.ravel() #vector to array\n",
        "\n",
        "x_train=np.asarray(x_train)\n",
        "x_test=np.asarray(x_test)\n",
        "y_train=np.asarray(y_train)\n",
        "y_test=np.asarray(y_test)\n",
        "\n",
        "y_train=y_train.ravel()\n",
        "y_test=y_test.ravel()\n",
        "\n",
        "debug_me()\n",
        "#==========preprocessing done============\n",
        "\n",
        "\n",
        "#==========optimal number of clusters====\n",
        "no_of_features=x_train.shape[1]\n",
        "print('no of features: ',no_of_features)\n",
        "\n",
        "plt.figure(figsize=(8, 6))\n",
        "from sklearn.cluster import KMeans\n",
        "wcss = []\n",
        "for i in range(1, 11):\n",
        "    kmeans = KMeans(n_clusters = i, init = 'k-means++', random_state = 42)\n",
        "    kmeans.fit(x_train)\n",
        "    wcss.append(kmeans.inertia_)\n",
        "plt.plot(range(1, 11), wcss)\n",
        "plt.title('The Elbow Method')\n",
        "plt.xlabel('Number of clusters')\n",
        "plt.ylabel('WCSS')\n",
        "plt.show()"
      ],
      "execution_count": 34,
      "outputs": [
        {
          "output_type": "stream",
          "text": [
            "object data types:  1\n",
            "after the conversion:  [2 4 4 3 2 7 8 2 9 11 7 7 1 8 5 6 25]\n",
            "----------debug start----------\n",
            "main data:  (20000, 17)\n",
            "x:  (20000, 16)\n",
            "y:  (20000, 1)\n",
            "x_train:  (14000, 16)\n",
            "x_test:  (6000, 16)\n",
            "y_train:  (14000,)\n",
            "y_test:  (6000,)\n",
            "----------debug end----------\n",
            "no of features:  16\n"
          ],
          "name": "stdout"
        },
        {
          "output_type": "display_data",
          "data": {
            "image/png": "[encoded data removed]",
            "text/plain": [
              "<Figure size 576x432 with 1 Axes>"
            ]
          },
          "metadata": {
            "tags": []
          }
        }
      ]
    }
  ]
}