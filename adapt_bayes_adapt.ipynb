{
  "nbformat": 4,
  "nbformat_minor": 0,
  "metadata": {
    "colab": {
      "name": "adapt_bayes_adapt.ipynb",
      "version": "0.3.2",
      "provenance": [],
      "collapsed_sections": [],
      "include_colab_link": true
    },
    "kernelspec": {
      "name": "python3",
      "display_name": "Python 3"
    }
  },
  "cells": [
    {
      "cell_type": "markdown",
      "metadata": {
        "id": "view-in-github",
        "colab_type": "text"
      },
      "source": [
        "<a href=\"https://colab.research.google.com/github/sak1b0/Thesis/blob/master/adapt_bayes_adapt.ipynb\" target=\"_parent\"><img src=\"https://colab.research.google.com/assets/colab-badge.svg\" alt=\"Open In Colab\"/></a>"
      ]
    },
    {
      "metadata": {
        "id": "BDFV2R_2IcZY",
        "colab_type": "code",
        "outputId": "5e61ced1-5a10-46e5-8fae-037355a892d7",
        "colab": {
          "base_uri": "https://localhost:8080/",
          "height": 540
        }
      },
      "cell_type": "code",
      "source": [
        "from sklearn import metrics\n",
        "from sklearn.naive_bayes import GaussianNB\n",
        "from sklearn.naive_bayes import MultinomialNB\n",
        "from sklearn.model_selection import train_test_split\n",
        "from sklearn.metrics import accuracy_score\n",
        "from sklearn.preprocessing import OneHotEncoder\n",
        "from sklearn.preprocessing import LabelEncoder\n",
        "from sklearn.cluster import KMeans\n",
        "from sklearn.decomposition import PCA\n",
        "import matplotlib.pyplot as plt\n",
        "#import pylab as pl\n",
        "import pandas as pd\n",
        "import numpy as np\n",
        "\n",
        "url='https://raw.githubusercontent.com/sak1b0/Thesis/master/allCSV/monk-2.csv'\n",
        "\n",
        "df=pd.read_csv(url,header=None)\n",
        "#print(df.iloc[0,:])\n",
        "\n",
        "#----------to handle nominal values---------\n",
        "\n",
        "my_arr=[]\n",
        "\n",
        "#track of column indices \n",
        "index=0\n",
        "for item in df.dtypes:\n",
        "  if(item=='object'):\n",
        "    #if data type is nominal adding to the array\n",
        "    my_arr.append(index)\n",
        "  index=index+1\n",
        "  \n",
        "print('object data types: ',len(my_arr))\n",
        "\n",
        "df=df.values\n",
        "\n",
        "if(len(my_arr)>0):\n",
        "  lbl=LabelEncoder()\n",
        "  for item in my_arr:\n",
        "    df[:,item] = lbl.fit_transform(df[:,item])\n",
        "    \n",
        "  print('after the conversion: ',df[0])    \n",
        "#--------------------------------------------\n",
        "\n",
        "\n",
        "df=np.asarray(df)\n",
        "\n",
        "X, y = np.split(df,[-1],axis=1)\n",
        "#issue here !!!!!!!!!!!!!!!!!!!!!!!!!!!!!\n",
        "y=y.astype('float64')\n",
        "\n",
        "x_train,x_test,y_train,y_test=train_test_split(X,y,test_size=0.30,random_state=101)\n",
        "\n",
        "#to check additional info set the value of debug to 1\n",
        "debug=0\n",
        "\n",
        "def debug_me():\n",
        "  print('----------debug start----------')\n",
        "  print('main data: ',df.shape)\n",
        "  print('x: ',X.shape)\n",
        "  print('y: ',y.shape)\n",
        "  print('x_train: ',x_train.shape)\n",
        "  print('x_test: ',x_test.shape)\n",
        "  print('y_train: ',y_train.shape)\n",
        "  print('y_test: ',y_test.shape)\n",
        "  print('----------debug end----------')\n",
        "\n",
        "\n",
        "\n",
        "\n",
        "# X=np.asarray(X)\n",
        "# y=np.asarray(y)\n",
        "# y=y.ravel() #vector to array\n",
        "\n",
        "x_train=np.asarray(x_train)\n",
        "x_test=np.asarray(x_test)\n",
        "y_train=np.asarray(y_train)\n",
        "y_test=np.asarray(y_test)\n",
        "\n",
        "y_train=y_train.ravel()\n",
        "y_test=y_test.ravel()\n",
        "\n",
        "debug_me()\n",
        "#==========preprocessing done============\n",
        "\n",
        "\n",
        "#==========optimal number of clusters====\n",
        "no_of_features=x_train.shape[1]\n",
        "\n",
        "print('no of features: ',no_of_features)\n",
        "print('actual no of classes: ',len(np.unique(y_train)))\n",
        "plt.figure(figsize=(6, 4))\n",
        "from sklearn.cluster import KMeans\n",
        "wcss = []\n",
        "for i in range(1, no_of_features):\n",
        "    kmeans = KMeans(n_clusters = i, init = 'k-means++', random_state = 42)\n",
        "    kmeans.fit(x_train)\n",
        "    wcss.append(kmeans.inertia_)\n",
        "plt.plot(range(1, no_of_features), wcss)\n",
        "plt.title('The Elbow Method')\n",
        "plt.xlabel('Number of clusters')\n",
        "plt.ylabel('WCSS')\n",
        "plt.show()\n",
        "\n",
        "#=================experiment===========\n",
        "\"\"\"\n",
        "\n",
        "\n",
        "dummy=x_train\n",
        "display(dummy[0:2,])\n",
        "\n",
        "clustering = KMeans(n_clusters=2,random_state=5)\n",
        "clustering.fit(dummy)\n",
        "dummy_df=pd.DataFrame(dummy)\n",
        "\n",
        "dummy_df.columns=['a','b','c','d','e','f','g']\n",
        "y=y_train\n",
        "#y.columns=['target']\n",
        "color_theme= np.array(['blue','green'])\n",
        "plt.subplot(1,2,1)\n",
        "\n",
        "plt.scatter(x=dummy_df.a,y=dummy_df.b,c=color_theme[y],s=50)\n",
        "plt.title('clusters')\n",
        "\"\"\""
      ],
      "execution_count": 61,
      "outputs": [
        {
          "output_type": "stream",
          "text": [
            "object data types:  0\n",
            "----------debug start----------\n",
            "main data:  (432, 7)\n",
            "x:  (432, 6)\n",
            "y:  (432, 1)\n",
            "x_train:  (302, 6)\n",
            "x_test:  (130, 6)\n",
            "y_train:  (302,)\n",
            "y_test:  (130,)\n",
            "----------debug end----------\n",
            "no of features:  6\n",
            "actual no of classes:  2\n"
          ],
          "name": "stdout"
        },
        {
          "output_type": "display_data",
          "data": {
            "image/png": "[encoded data removed]",
            "text/plain": [
              "<Figure size 432x288 with 1 Axes>"
            ]
          },
          "metadata": {
            "tags": []
          }
        },
        {
          "output_type": "execute_result",
          "data": {
            "text/plain": [
              "\"\\n\\n\\ndummy=x_train\\ndisplay(dummy[0:2,])\\n\\nclustering = KMeans(n_clusters=2,random_state=5)\\nclustering.fit(dummy)\\ndummy_df=pd.DataFrame(dummy)\\n\\ndummy_df.columns=['a','b','c','d','e','f','g']\\ny=y_train\\n#y.columns=['target']\\ncolor_theme= np.array(['blue','green'])\\nplt.subplot(1,2,1)\\n\\nplt.scatter(x=dummy_df.a,y=dummy_df.b,c=color_theme[y],s=50)\\nplt.title('clusters')\\n\""
            ]
          },
          "metadata": {
            "tags": []
          },
          "execution_count": 61
        }
      ]
    }
  ]
}