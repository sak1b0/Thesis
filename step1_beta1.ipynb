{
  "nbformat": 4,
  "nbformat_minor": 0,
  "metadata": {
    "colab": {
      "name": "step1_beta1.ipynb",
      "version": "0.3.2",
      "provenance": [],
      "collapsed_sections": [],
      "include_colab_link": true
    },
    "kernelspec": {
      "name": "python3",
      "display_name": "Python 3"
    }
  },
  "cells": [
    {
      "cell_type": "markdown",
      "metadata": {
        "id": "view-in-github",
        "colab_type": "text"
      },
      "source": [
        "<a href=\"https://colab.research.google.com/github/sak1b0/Thesis/blob/master/step1_beta1.ipynb\" target=\"_parent\"><img src=\"https://colab.research.google.com/assets/colab-badge.svg\" alt=\"Open In Colab\"/></a>"
      ]
    },
    {
      "metadata": {
        "id": "lDbABtt4hUG5",
        "colab_type": "code",
        "colab": {
          "base_uri": "https://localhost:8080/",
          "height": 276
        },
        "outputId": "9d77dbc2-a577-4252-e09c-bb253dbaebd5"
      },
      "cell_type": "code",
      "source": [
        "from sklearn import metrics\n",
        "from sklearn.naive_bayes import GaussianNB\n",
        "from sklearn.naive_bayes import MultinomialNB\n",
        "from sklearn.model_selection import train_test_split\n",
        "from sklearn.preprocessing import OneHotEncoder\n",
        "from sklearn.preprocessing import LabelEncoder\n",
        "import pandas as pd\n",
        "import numpy as np\n",
        "\n",
        "url='https://raw.githubusercontent.com/sak1b0/Thesis/master/allCSV/adult.csv'\n",
        "\n",
        "df=pd.read_csv(url,header=None)\n",
        "\n",
        "\n",
        "#----------to handle nominal values---------\n",
        "\n",
        "my_arr=[]\n",
        "\n",
        "#track of column indices \n",
        "index=0\n",
        "for item in df.dtypes:\n",
        "  if(item=='object'):\n",
        "    #if data type is nominal adding to the array\n",
        "    my_arr.append(index)\n",
        "  index=index+1\n",
        "  \n",
        "print('object data types: ',len(my_arr))\n",
        "\n",
        "df=df.values\n",
        "\n",
        "if(len(my_arr)>0):\n",
        "  print('\\nbefore: ',df[0],'\\n')\n",
        "  lbl=LabelEncoder()\n",
        "  for item in my_arr:\n",
        "    df[:,item] = lbl.fit_transform(df[:,item])\n",
        "    \n",
        "  print('after: ',df[0])    \n",
        "#--------------------------------------------\n",
        "\n",
        "\n",
        "df=np.asarray(df)\n",
        "\n",
        "X, y = np.split(df,[-1],axis=1)\n",
        "#issue here !!!!!!!!!!!!!!!!!!!!!!!!!!!!!\n",
        "y=y.astype('float64')\n",
        "\n",
        "x_train,x_test,y_train,y_test=train_test_split(X,y,test_size=0.20)\n",
        "\n",
        "#to check additional info set the value of debug to 1\n",
        "debug=0\n",
        "\n",
        "if(debug==1):\n",
        "  print('----------debug start----------')\n",
        "  print('main data: ',data.shape)\n",
        "  print('x: ',X.shape)\n",
        "  print('y: ',y.shape)\n",
        "  print('x_train: ',x_train.shape)\n",
        "  print('x_test: ',x_test.shape)\n",
        "  print('y_train: ',y_train.shape)\n",
        "  print('y_test: ',y_test.shape)\n",
        "  print('----------debug end----------')\n",
        "\n",
        "\n",
        "\n",
        "\n",
        "# X=np.asarray(X)\n",
        "# y=np.asarray(y)\n",
        "# y=y.ravel() #vector to array\n",
        "\n",
        "x_train=np.asarray(x_train)\n",
        "x_test=np.asarray(x_test)\n",
        "y_train=np.asarray(y_train)\n",
        "y_test=np.asarray(y_test)\n",
        "y_train=y_train.ravel()\n",
        "y_test=y_test.ravel()\n",
        "\n",
        "\n",
        "#model = MultinomialNB()\n",
        "model = GaussianNB()\n",
        "model.fit(x_train,y_train)\n",
        "expected = y_test\n",
        "predicted = model.predict(x_test)\n",
        "print(metrics.classification_report(expected, predicted))\n",
        "#print(metrics.confusion_matrix(expected, predicted))"
      ],
      "execution_count": 54,
      "outputs": [
        {
          "output_type": "stream",
          "text": [
            "object data types:  9\n",
            "\n",
            "before:  [25.0 'Private' 226802.0 '11th' 7.0 'Never-married' 'Machine-op-inspct'\n",
            " 'Own-child' 'Black' 'Male' 0.0 0.0 40.0 'United-States' '<=50K'] \n",
            "\n",
            "after:  [25.0 2 226802.0 1 7.0 4 6 3 2 1 0.0 0.0 40.0 38 0]\n",
            "              precision    recall  f1-score   support\n",
            "\n",
            "         0.0       0.81      0.95      0.88      6899\n",
            "         1.0       0.64      0.30      0.41      2146\n",
            "\n",
            "   micro avg       0.80      0.80      0.80      9045\n",
            "   macro avg       0.73      0.63      0.64      9045\n",
            "weighted avg       0.77      0.80      0.77      9045\n",
            "\n"
          ],
          "name": "stdout"
        }
      ]
    }
  ]
}