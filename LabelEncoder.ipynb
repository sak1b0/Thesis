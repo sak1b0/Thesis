{
  "nbformat": 4,
  "nbformat_minor": 0,
  "metadata": {
    "colab": {
      "name": "LabelEncoder.ipynb",
      "version": "0.3.2",
      "provenance": [],
      "collapsed_sections": [],
      "include_colab_link": true
    },
    "kernelspec": {
      "name": "python3",
      "display_name": "Python 3"
    }
  },
  "cells": [
    {
      "cell_type": "markdown",
      "metadata": {
        "id": "view-in-github",
        "colab_type": "text"
      },
      "source": [
        "<a href=\"https://colab.research.google.com/github/sak1b0/Thesis/blob/master/LabelEncoder.ipynb\" target=\"_parent\"><img src=\"https://colab.research.google.com/assets/colab-badge.svg\" alt=\"Open In Colab\"/></a>"
      ]
    },
    {
      "metadata": {
        "id": "-393YXsd5QtG",
        "colab_type": "code",
        "colab": {
          "base_uri": "https://localhost:8080/",
          "height": 422
        },
        "outputId": "dbd7414f-b42e-4eb5-a853-871069c8a55b"
      },
      "cell_type": "code",
      "source": [
        "from sklearn import metrics\n",
        "from sklearn.naive_bayes import GaussianNB\n",
        "from sklearn.naive_bayes import MultinomialNB\n",
        "from sklearn.preprocessing import OneHotEncoder\n",
        "from sklearn.preprocessing import LabelEncoder\n",
        "import pandas as pd\n",
        "import numpy as np\n",
        "\n",
        "url='https://raw.githubusercontent.com/sak1b0/Thesis/master/allCSV/abalone.csv'\n",
        "\n",
        "#dataframe hisebe read hocche\n",
        "df=pd.read_csv(url,header=None,nrows=10)\n",
        "\n",
        "#clm,row order\n",
        "print(df.values)\n",
        "\n",
        "\n",
        "#testing block start\n",
        "\n",
        "df=df.values\n",
        "print('\\n============ after encoding =============\\n')\n",
        "\n",
        "#hot=OneHotEncoder(column_transformer=[0])\n",
        "#df=hot.fit_transform(df).toarray()\n",
        "lbl=LabelEncoder()\n",
        "df[:,0] = lbl.fit_transform(df[:,0])\n",
        "print(df)\n",
        "\n",
        "\n",
        "#testing block end\n"
      ],
      "execution_count": 74,
      "outputs": [
        {
          "output_type": "stream",
          "text": [
            "[['M' 0.455 0.365 0.095 0.514 0.2245 0.10099999999999999 0.15 15]\n",
            " ['M' 0.35 0.265 0.09 0.2255 0.0995 0.0485 0.07 7]\n",
            " ['F' 0.53 0.42 0.135 0.677 0.2565 0.1415 0.21 9]\n",
            " ['M' 0.44 0.365 0.125 0.516 0.2155 0.114 0.155 10]\n",
            " ['I' 0.33 0.255 0.08 0.205 0.0895 0.0395 0.055 7]\n",
            " ['I' 0.425 0.3 0.095 0.3515 0.141 0.0775 0.12 8]\n",
            " ['F' 0.53 0.415 0.15 0.7775 0.237 0.1415 0.33 20]\n",
            " ['F' 0.545 0.425 0.125 0.768 0.294 0.1495 0.26 16]\n",
            " ['M' 0.475 0.37 0.125 0.5095 0.2165 0.1125 0.165 9]\n",
            " ['F' 0.525 0.38 0.14 0.6065 0.19399999999999998 0.1475 0.21 14]]\n",
            "\n",
            "============ after encoding =============\n",
            "\n",
            "[[2 0.455 0.365 0.095 0.514 0.2245 0.10099999999999999 0.15 15]\n",
            " [2 0.35 0.265 0.09 0.2255 0.0995 0.0485 0.07 7]\n",
            " [0 0.53 0.42 0.135 0.677 0.2565 0.1415 0.21 9]\n",
            " [2 0.44 0.365 0.125 0.516 0.2155 0.114 0.155 10]\n",
            " [1 0.33 0.255 0.08 0.205 0.0895 0.0395 0.055 7]\n",
            " [1 0.425 0.3 0.095 0.3515 0.141 0.0775 0.12 8]\n",
            " [0 0.53 0.415 0.15 0.7775 0.237 0.1415 0.33 20]\n",
            " [0 0.545 0.425 0.125 0.768 0.294 0.1495 0.26 16]\n",
            " [2 0.475 0.37 0.125 0.5095 0.2165 0.1125 0.165 9]\n",
            " [0 0.525 0.38 0.14 0.6065 0.19399999999999998 0.1475 0.21 14]]\n"
          ],
          "name": "stdout"
        }
      ]
    }
  ]
}