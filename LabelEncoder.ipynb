{
  "nbformat": 4,
  "nbformat_minor": 0,
  "metadata": {
    "colab": {
      "name": "LabelEncoder.ipynb",
      "version": "0.3.2",
      "provenance": [],
      "collapsed_sections": [],
      "include_colab_link": true
    },
    "kernelspec": {
      "name": "python3",
      "display_name": "Python 3"
    }
  },
  "cells": [
    {
      "cell_type": "markdown",
      "metadata": {
        "id": "view-in-github",
        "colab_type": "text"
      },
      "source": [
        "<a href=\"https://colab.research.google.com/github/sak1b0/Thesis/blob/master/LabelEncoder.ipynb\" target=\"_parent\"><img src=\"https://colab.research.google.com/assets/colab-badge.svg\" alt=\"Open In Colab\"/></a>"
      ]
    },
    {
      "metadata": {
        "id": "-393YXsd5QtG",
        "colab_type": "code",
        "colab": {
          "base_uri": "https://localhost:8080/",
          "height": 826
        },
        "outputId": "19fb2c98-0c66-4396-8687-0683f30e3f64"
      },
      "cell_type": "code",
      "source": [
        "from sklearn import metrics\n",
        "from sklearn.naive_bayes import GaussianNB\n",
        "from sklearn.naive_bayes import MultinomialNB\n",
        "from sklearn.preprocessing import OneHotEncoder\n",
        "from sklearn.preprocessing import LabelEncoder\n",
        "import pandas as pd\n",
        "import numpy as np\n",
        "\n",
        "url='https://raw.githubusercontent.com/sak1b0/Thesis/master/allCSV/automobile.csv'\n",
        "\n",
        "#dataframe hisebe read hocche\n",
        "df=pd.read_csv(url,header=None,nrows=3)\n",
        "\n",
        "#testing block start\n",
        "print(df.values)\n",
        "\n",
        "#kun kun column k encode korbo sheita ber kortesi\n",
        "my_arr=[]\n",
        "#colum er index er track rakhte \n",
        "index=0\n",
        "print(df.dtypes)\n",
        "\n",
        "for item in df.dtypes:\n",
        "  if(item=='object'):\n",
        "    my_arr.append(index)\n",
        "  index=index+1\n",
        "\n",
        "print(my_arr)\n",
        "df=df.values\n",
        "print('\\n============ after encoding =============\\n')\n",
        "\n",
        "#hot=OneHotEncoder(column_transformer=[0])\n",
        "#df=hot.fit_transform(df).toarray()\n",
        "lbl=LabelEncoder()\n",
        "for item in my_arr:\n",
        "  df[:,item] = lbl.fit_transform(df[:,item])\n",
        "\n",
        "print(df)\n",
        "\n",
        "\n",
        "#testing block end\n"
      ],
      "execution_count": 85,
      "outputs": [
        {
          "output_type": "stream",
          "text": [
            "[[168.0 'toyota' 'gas' 'std' 'two' 'sedan' 'rwd' 'front' 94.5 168.7 64.0\n",
            "  52.6 2169.0 'ohc' 'four' 98.0 '2bbl' 3.19 3.03 9.0 70.0 4800.0 29.0\n",
            "  34.0 8058.0 1]\n",
            " [113.0 'mazda' 'gas' 'std' 'four' 'sedan' 'fwd' 'front' 93.1 166.8 64.2\n",
            "  54.1 1950.0 'ohc' 'four' 91.0 '2bbl' 3.08 3.15 9.0 68.0 5000.0 31.0\n",
            "  38.0 7395.0 1]\n",
            " [87.0 'toyota' 'gas' 'std' 'two' 'hatchback' 'fwd' 'front' 95.7 158.7\n",
            "  63.6 54.5 1985.0 'ohc' 'four' 92.0 '2bbl' 3.05 3.03 9.0 62.0 4800.0\n",
            "  35.0 39.0 5348.0 1]]\n",
            "0     float64\n",
            "1      object\n",
            "2      object\n",
            "3      object\n",
            "4      object\n",
            "5      object\n",
            "6      object\n",
            "7      object\n",
            "8     float64\n",
            "9     float64\n",
            "10    float64\n",
            "11    float64\n",
            "12    float64\n",
            "13     object\n",
            "14     object\n",
            "15    float64\n",
            "16     object\n",
            "17    float64\n",
            "18    float64\n",
            "19    float64\n",
            "20    float64\n",
            "21    float64\n",
            "22    float64\n",
            "23    float64\n",
            "24    float64\n",
            "25      int64\n",
            "dtype: object\n",
            "[1, 2, 3, 4, 5, 6, 7, 13, 14, 16]\n",
            "\n",
            "============ after encoding =============\n",
            "\n",
            "[[168.0 1 0 0 1 1 1 0 94.5 168.7 64.0 52.6 2169.0 0 0 98.0 0 3.19 3.03\n",
            "  9.0 70.0 4800.0 29.0 34.0 8058.0 1]\n",
            " [113.0 0 0 0 0 1 0 0 93.1 166.8 64.2 54.1 1950.0 0 0 91.0 0 3.08 3.15\n",
            "  9.0 68.0 5000.0 31.0 38.0 7395.0 1]\n",
            " [87.0 1 0 0 1 0 0 0 95.7 158.7 63.6 54.5 1985.0 0 0 92.0 0 3.05 3.03 9.0\n",
            "  62.0 4800.0 35.0 39.0 5348.0 1]]\n"
          ],
          "name": "stdout"
        }
      ]
    }
  ]
}