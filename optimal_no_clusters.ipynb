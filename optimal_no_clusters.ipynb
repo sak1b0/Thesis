{
  "nbformat": 4,
  "nbformat_minor": 0,
  "metadata": {
    "colab": {
      "name": "adapt_bayes_adapt.ipynb",
      "version": "0.3.2",
      "provenance": [],
      "collapsed_sections": [],
      "include_colab_link": true
    },
    "kernelspec": {
      "name": "python3",
      "display_name": "Python 3"
    }
  },
  "cells": [
    {
      "cell_type": "markdown",
      "metadata": {
        "id": "view-in-github",
        "colab_type": "text"
      },
      "source": [
        "<a href=\"https://colab.research.google.com/github/sak1b0/Thesis/blob/master/optimal_no_clusters.ipynb\" target=\"_parent\"><img src=\"https://colab.research.google.com/assets/colab-badge.svg\" alt=\"Open In Colab\"/></a>"
      ]
    },
    {
      "metadata": {
        "id": "BDFV2R_2IcZY",
        "colab_type": "code",
        "colab": {
          "base_uri": "https://localhost:8080/",
          "height": 805
        },
        "outputId": "862a310d-b15b-483c-ecb4-92b0402b1130"
      },
      "cell_type": "code",
      "source": [
        "from sklearn import metrics\n",
        "from sklearn.naive_bayes import GaussianNB\n",
        "from sklearn.naive_bayes import MultinomialNB\n",
        "from sklearn.model_selection import train_test_split\n",
        "from sklearn.metrics import accuracy_score\n",
        "from sklearn.preprocessing import OneHotEncoder\n",
        "from sklearn.preprocessing import LabelEncoder\n",
        "from sklearn.cluster import KMeans\n",
        "from sklearn.decomposition import PCA\n",
        "import pylab as pl\n",
        "import pandas as pd\n",
        "import numpy as np\n",
        "\n",
        "url='https://raw.githubusercontent.com/sak1b0/Thesis/master/allCSV/letter.csv'\n",
        "\n",
        "df=pd.read_csv(url,header=None)\n",
        "print(df.iloc[0,:])\n",
        "\n",
        "#----------to handle nominal values---------\n",
        "\n",
        "my_arr=[]\n",
        "\n",
        "#track of column indices \n",
        "index=0\n",
        "for item in df.dtypes:\n",
        "  if(item=='object'):\n",
        "    #if data type is nominal adding to the array\n",
        "    my_arr.append(index)\n",
        "  index=index+1\n",
        "  \n",
        "print('object data types: ',len(my_arr))\n",
        "\n",
        "df=df.values\n",
        "\n",
        "if(len(my_arr)>0):\n",
        "  lbl=LabelEncoder()\n",
        "  for item in my_arr:\n",
        "    df[:,item] = lbl.fit_transform(df[:,item])\n",
        "    \n",
        "  print('after the conversion: ',df[0])    \n",
        "#--------------------------------------------\n",
        "\n",
        "\n",
        "df=np.asarray(df)\n",
        "\n",
        "X, y = np.split(df,[-1],axis=1)\n",
        "#issue here !!!!!!!!!!!!!!!!!!!!!!!!!!!!!\n",
        "y=y.astype('float64')\n",
        "\n",
        "x_train,x_test,y_train,y_test=train_test_split(X,y,test_size=0.30,random_state=101)\n",
        "\n",
        "#to check additional info set the value of debug to 1\n",
        "debug=0\n",
        "\n",
        "def debug_me():\n",
        "  print('----------debug start----------')\n",
        "  print('main data: ',df.shape)\n",
        "  print('x: ',X.shape)\n",
        "  print('y: ',y.shape)\n",
        "  print('x_train: ',x_train.shape)\n",
        "  print('x_test: ',x_test.shape)\n",
        "  print('y_train: ',y_train.shape)\n",
        "  print('y_test: ',y_test.shape)\n",
        "  print('----------debug end----------')\n",
        "\n",
        "\n",
        "\n",
        "\n",
        "# X=np.asarray(X)\n",
        "# y=np.asarray(y)\n",
        "# y=y.ravel() #vector to array\n",
        "\n",
        "x_train=np.asarray(x_train)\n",
        "x_test=np.asarray(x_test)\n",
        "y_train=np.asarray(y_train)\n",
        "y_test=np.asarray(y_test)\n",
        "\n",
        "y_train=y_train.ravel()\n",
        "y_test=y_test.ravel()\n",
        "\n",
        "debug_me()\n",
        "#==========preprocessing done============\n",
        "\n",
        "\n",
        "#==========optimal number of clusters====\n",
        "\n",
        "\n",
        "X_norm = (x_train - x_train.mean()) / (x_train.max() - x_train.min())\n",
        "Y_norm = (y_train - y_train.mean()) / (y_train.max() - y_train.min())\n",
        "#pl.scatter(Y_norm,X_norm)\n",
        "#pl.show()\n",
        "Y_norm=Y_norm.reshape(-1, 1)\n",
        "no_of_features=x_train.shape[1]\n",
        "\n",
        "Nc = range(1, no_of_features)\n",
        "kmeans = [KMeans(n_clusters=i) for i in Nc]\n",
        "kmeans\n",
        "score = [kmeans[i].fit(Y_norm).score(Y_norm) for i in range(len(kmeans))]\n",
        "score\n",
        "pl.plot(Nc,score)\n",
        "pl.xlabel('Number of Clusters')\n",
        "pl.ylabel('Score')\n",
        "pl.title('Elbow Curve')\n",
        "pl.show()"
      ],
      "execution_count": 18,
      "outputs": [
        {
          "output_type": "stream",
          "text": [
            "0      2\n",
            "1      4\n",
            "2      4\n",
            "3      3\n",
            "4      2\n",
            "5      7\n",
            "6      8\n",
            "7      2\n",
            "8      9\n",
            "9     11\n",
            "10     7\n",
            "11     7\n",
            "12     1\n",
            "13     8\n",
            "14     5\n",
            "15     6\n",
            "16     Z\n",
            "Name: 0, dtype: object\n",
            "object data types:  1\n",
            "after the conversion:  [2 4 4 3 2 7 8 2 9 11 7 7 1 8 5 6 25]\n",
            "----------debug start----------\n",
            "main data:  (20000, 17)\n",
            "x:  (20000, 16)\n",
            "y:  (20000, 1)\n",
            "x_train:  (14000, 16)\n",
            "x_test:  (6000, 16)\n",
            "y_train:  (14000,)\n",
            "y_test:  (6000,)\n",
            "----------debug end----------\n"
          ],
          "name": "stdout"
        },
        {
          "output_type": "display_data",
          "data": {
            "image/png": "[encoded data removed]",
            "text/plain": [
              "<Figure size 432x288 with 1 Axes>"
            ]
          },
          "metadata": {
            "tags": []
          }
        }
      ]
    }
  ]
}