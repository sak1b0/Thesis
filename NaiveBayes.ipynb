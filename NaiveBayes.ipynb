{
  "nbformat": 4,
  "nbformat_minor": 0,
  "metadata": {
    "colab": {
      "name": "NaiveBayes.ipynb",
      "version": "0.3.2",
      "provenance": [],
      "collapsed_sections": [],
      "include_colab_link": true
    },
    "kernelspec": {
      "name": "python3",
      "display_name": "Python 3"
    }
  },
  "cells": [
    {
      "cell_type": "markdown",
      "metadata": {
        "id": "view-in-github",
        "colab_type": "text"
      },
      "source": [
        "<a href=\"https://colab.research.google.com/github/sak1b0/Thesis/blob/master/NaiveBayes.ipynb\" target=\"_parent\"><img src=\"https://colab.research.google.com/assets/colab-badge.svg\" alt=\"Open In Colab\"/></a>"
      ]
    },
    {
      "metadata": {
        "id": "TEuCIzueQdAv",
        "colab_type": "code",
        "outputId": "e6bede66-508c-4cdf-bae5-242ceedcf5e7",
        "colab": {
          "base_uri": "https://localhost:8080/",
          "height": 363
        }
      },
      "cell_type": "code",
      "source": [
        "from sklearn import metrics\n",
        "from sklearn.naive_bayes import GaussianNB\n",
        "from sklearn.naive_bayes import MultinomialNB\n",
        "import pandas as pd\n",
        "import numpy as np\n",
        "\n",
        "url='https://raw.githubusercontent.com/sak1b0/Thesis/master/led7digit.csv'\n",
        "\n",
        "data=pd.read_csv(url,header=None)\n",
        "\n",
        "data=np.asarray(data)\n",
        "\n",
        "X, y = np.split(data,[-1],axis=1) \n",
        "\n",
        "X=np.asarray(X)\n",
        "y=np.asarray(y)\n",
        "y=y.ravel() #vector to array\n",
        "\n",
        "print(data.shape)\n",
        "print(X.shape)\n",
        "print(y.shape)\n",
        "\n",
        "model = MultinomialNB()\n",
        "model.fit(X,y)\n",
        "expected = y\n",
        "predicted = model.predict(X)\n",
        "print(metrics.classification_report(expected, predicted))\n",
        "#print(metrics.confusion_matrix(expected, predicted))"
      ],
      "execution_count": 27,
      "outputs": [
        {
          "output_type": "stream",
          "text": [
            "(500, 8)\n",
            "(500, 7)\n",
            "(500,)\n",
            "              precision    recall  f1-score   support\n",
            "\n",
            "         0.0       0.82      0.73      0.78        45\n",
            "         1.0       0.76      0.59      0.67        37\n",
            "         2.0       0.83      0.75      0.78        51\n",
            "         3.0       0.63      0.75      0.69        57\n",
            "         4.0       0.96      0.85      0.90        52\n",
            "         5.0       0.78      0.87      0.82        52\n",
            "         6.0       0.78      0.81      0.79        47\n",
            "         7.0       0.79      0.65      0.71        57\n",
            "         8.0       0.65      0.64      0.65        53\n",
            "         9.0       0.57      0.76      0.65        49\n",
            "\n",
            "   micro avg       0.74      0.74      0.74       500\n",
            "   macro avg       0.76      0.74      0.74       500\n",
            "weighted avg       0.75      0.74      0.74       500\n",
            "\n"
          ],
          "name": "stdout"
        }
      ]
    },
    {
      "metadata": {
        "id": "dpN1b-hxpccE",
        "colab_type": "code",
        "colab": {}
      },
      "cell_type": "code",
      "source": [
        ""
      ],
      "execution_count": 0,
      "outputs": []
    },
    {
      "metadata": {
        "id": "uBKhnluje_yd",
        "colab_type": "code",
        "colab": {}
      },
      "cell_type": "code",
      "source": [
        ""
      ],
      "execution_count": 0,
      "outputs": []
    }
  ]
}