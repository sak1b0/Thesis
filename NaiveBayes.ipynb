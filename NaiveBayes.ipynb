{
  "nbformat": 4,
  "nbformat_minor": 0,
  "metadata": {
    "colab": {
      "name": "NaiveBayes.ipynb",
      "version": "0.3.2",
      "provenance": [],
      "collapsed_sections": [],
      "include_colab_link": true
    },
    "kernelspec": {
      "name": "python3",
      "display_name": "Python 3"
    }
  },
  "cells": [
    {
      "cell_type": "markdown",
      "metadata": {
        "id": "view-in-github",
        "colab_type": "text"
      },
      "source": [
        "<a href=\"https://colab.research.google.com/github/sak1b0/Thesis/blob/master/NaiveBayes.ipynb\" target=\"_parent\"><img src=\"https://colab.research.google.com/assets/colab-badge.svg\" alt=\"Open In Colab\"/></a>"
      ]
    },
    {
      "metadata": {
        "id": "TEuCIzueQdAv",
        "colab_type": "code",
        "outputId": "f10b4ef6-eb8e-4560-9330-9d3282b5a743",
        "colab": {
          "base_uri": "https://localhost:8080/",
          "height": 228
        }
      },
      "cell_type": "code",
      "source": [
        "from sklearn import metrics\n",
        "from sklearn.naive_bayes import GaussianNB\n",
        "from sklearn.naive_bayes import MultinomialNB\n",
        "import pandas as pd\n",
        "import numpy as np\n",
        "\n",
        "url='https://raw.githubusercontent.com/sak1b0/Thesis/master/allCSV/ring.csv'\n",
        "\n",
        "data=pd.read_csv(url,header=None)\n",
        "\n",
        "data=np.asarray(data)\n",
        "\n",
        "X, y = np.split(data,[-1],axis=1) \n",
        "\n",
        "X=np.asarray(X)\n",
        "y=np.asarray(y)\n",
        "y=y.ravel() #vector to array\n",
        "\n",
        "print(data.shape)\n",
        "print(X.shape)\n",
        "print(y.shape)\n",
        "\n",
        "#model = MultinomialNB()\n",
        "model = GaussianNB()\n",
        "model.fit(X,y)\n",
        "expected = y\n",
        "predicted = model.predict(X)\n",
        "print(metrics.classification_report(expected, predicted))\n",
        "#print(metrics.confusion_matrix(expected, predicted))"
      ],
      "execution_count": 1,
      "outputs": [
        {
          "output_type": "stream",
          "text": [
            "(7400, 21)\n",
            "(7400, 20)\n",
            "(7400,)\n",
            "              precision    recall  f1-score   support\n",
            "\n",
            "         0.0       0.99      0.97      0.98      3664\n",
            "         1.0       0.97      0.99      0.98      3736\n",
            "\n",
            "   micro avg       0.98      0.98      0.98      7400\n",
            "   macro avg       0.98      0.98      0.98      7400\n",
            "weighted avg       0.98      0.98      0.98      7400\n",
            "\n"
          ],
          "name": "stdout"
        }
      ]
    },
    {
      "metadata": {
        "id": "dpN1b-hxpccE",
        "colab_type": "code",
        "colab": {}
      },
      "cell_type": "code",
      "source": [
        ""
      ],
      "execution_count": 0,
      "outputs": []
    },
    {
      "metadata": {
        "id": "uBKhnluje_yd",
        "colab_type": "code",
        "colab": {}
      },
      "cell_type": "code",
      "source": [
        ""
      ],
      "execution_count": 0,
      "outputs": []
    }
  ]
}